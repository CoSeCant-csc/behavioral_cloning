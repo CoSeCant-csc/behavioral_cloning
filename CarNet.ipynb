{
 "cells": [
  {
   "cell_type": "code",
   "execution_count": 1,
   "metadata": {
    "collapsed": false
   },
   "outputs": [
    {
     "name": "stderr",
     "output_type": "stream",
     "text": [
      "Using TensorFlow backend.\n"
     ]
    }
   ],
   "source": [
    "from keras.datasets import mnist\n",
    "from keras.models import Sequential, Model\n",
    "from keras.layers import Dense, Dropout, Activation, Flatten, BatchNormalization, merge, Input, BatchNormalization\n",
    "from keras.layers import Convolution2D, MaxPooling2D, ZeroPadding2D, AveragePooling2D, GlobalAveragePooling2D\n",
    "from keras.utils import np_utils\n",
    "from keras.models import model_from_json\n",
    "from keras import backend as K\n",
    "from keras.preprocessing import image\n",
    "from keras.optimizers import SGD\n",
    "from keras.utils.data_utils import get_file\n",
    "import random\n",
    "import os\n",
    "import cv2\n",
    "\n",
    "from utils import Smooth, BatchGenerator\n",
    "\n",
    "import pandas as pd\n",
    "from tqdm import tqdm\n",
    "from sklearn.model_selection import train_test_split\n",
    "\n",
    "import numpy as np\n",
    "import tensorflow as tf\n",
    "import matplotlib.pyplot as plt\n",
    "\n",
    "%matplotlib inline\n",
    "%config InlineBackend.figure_format = 'retina'\n",
    "\n",
    "from keras.backend.tensorflow_backend import set_session\n",
    "import tensorflow as tf\n",
    "\n",
    "config = tf.ConfigProto()\n",
    "config.gpu_options.allow_growth=True\n",
    "set_session(tf.Session(config=config))"
   ]
  },
  {
   "cell_type": "code",
   "execution_count": 2,
   "metadata": {
    "collapsed": false
   },
   "outputs": [
    {
     "name": "stdout",
     "output_type": "stream",
     "text": [
      "30.1862628077 -0.00445289741769 1.0 -1.0\n"
     ]
    },
    {
     "data": {
      "text/html": [
       "<div>\n",
       "<table border=\"1\" class=\"dataframe\">\n",
       "  <thead>\n",
       "    <tr style=\"text-align: right;\">\n",
       "      <th></th>\n",
       "      <th>center</th>\n",
       "      <th>left</th>\n",
       "      <th>right</th>\n",
       "      <th>dir</th>\n",
       "      <th>acc</th>\n",
       "      <th>nacc</th>\n",
       "      <th>speed</th>\n",
       "    </tr>\n",
       "  </thead>\n",
       "  <tbody>\n",
       "    <tr>\n",
       "      <th>0</th>\n",
       "      <td>/Users/ypw/Desktop/a/IMG/center_2017_01_05_10_...</td>\n",
       "      <td>/Users/ypw/Desktop/a/IMG/left_2017_01_05_10_33...</td>\n",
       "      <td>/Users/ypw/Desktop/a/IMG/right_2017_01_05_10_3...</td>\n",
       "      <td>-46.68390</td>\n",
       "      <td>1.0</td>\n",
       "      <td>0.0</td>\n",
       "      <td>30.14583</td>\n",
       "    </tr>\n",
       "    <tr>\n",
       "      <th>1</th>\n",
       "      <td>/Users/ypw/Desktop/a/IMG/center_2017_01_05_10_...</td>\n",
       "      <td>/Users/ypw/Desktop/a/IMG/left_2017_01_05_10_33...</td>\n",
       "      <td>/Users/ypw/Desktop/a/IMG/right_2017_01_05_10_3...</td>\n",
       "      <td>-82.77869</td>\n",
       "      <td>1.0</td>\n",
       "      <td>0.0</td>\n",
       "      <td>30.10305</td>\n",
       "    </tr>\n",
       "    <tr>\n",
       "      <th>2</th>\n",
       "      <td>/Users/ypw/Desktop/a/IMG/center_2017_01_05_10_...</td>\n",
       "      <td>/Users/ypw/Desktop/a/IMG/left_2017_01_05_10_33...</td>\n",
       "      <td>/Users/ypw/Desktop/a/IMG/right_2017_01_05_10_3...</td>\n",
       "      <td>-51.98100</td>\n",
       "      <td>1.0</td>\n",
       "      <td>0.0</td>\n",
       "      <td>30.18893</td>\n",
       "    </tr>\n",
       "    <tr>\n",
       "      <th>3</th>\n",
       "      <td>/Users/ypw/Desktop/a/IMG/center_2017_01_05_10_...</td>\n",
       "      <td>/Users/ypw/Desktop/a/IMG/left_2017_01_05_10_33...</td>\n",
       "      <td>/Users/ypw/Desktop/a/IMG/right_2017_01_05_10_3...</td>\n",
       "      <td>-21.23459</td>\n",
       "      <td>1.0</td>\n",
       "      <td>0.0</td>\n",
       "      <td>30.19710</td>\n",
       "    </tr>\n",
       "    <tr>\n",
       "      <th>4</th>\n",
       "      <td>/Users/ypw/Desktop/a/IMG/center_2017_01_05_10_...</td>\n",
       "      <td>/Users/ypw/Desktop/a/IMG/left_2017_01_05_10_33...</td>\n",
       "      <td>/Users/ypw/Desktop/a/IMG/right_2017_01_05_10_3...</td>\n",
       "      <td>0.00000</td>\n",
       "      <td>1.0</td>\n",
       "      <td>0.0</td>\n",
       "      <td>30.18751</td>\n",
       "    </tr>\n",
       "  </tbody>\n",
       "</table>\n",
       "</div>"
      ],
      "text/plain": [
       "                                              center  \\\n",
       "0  /Users/ypw/Desktop/a/IMG/center_2017_01_05_10_...   \n",
       "1  /Users/ypw/Desktop/a/IMG/center_2017_01_05_10_...   \n",
       "2  /Users/ypw/Desktop/a/IMG/center_2017_01_05_10_...   \n",
       "3  /Users/ypw/Desktop/a/IMG/center_2017_01_05_10_...   \n",
       "4  /Users/ypw/Desktop/a/IMG/center_2017_01_05_10_...   \n",
       "\n",
       "                                                left  \\\n",
       "0  /Users/ypw/Desktop/a/IMG/left_2017_01_05_10_33...   \n",
       "1  /Users/ypw/Desktop/a/IMG/left_2017_01_05_10_33...   \n",
       "2  /Users/ypw/Desktop/a/IMG/left_2017_01_05_10_33...   \n",
       "3  /Users/ypw/Desktop/a/IMG/left_2017_01_05_10_33...   \n",
       "4  /Users/ypw/Desktop/a/IMG/left_2017_01_05_10_33...   \n",
       "\n",
       "                                               right       dir  acc  nacc  \\\n",
       "0  /Users/ypw/Desktop/a/IMG/right_2017_01_05_10_3... -46.68390  1.0   0.0   \n",
       "1  /Users/ypw/Desktop/a/IMG/right_2017_01_05_10_3... -82.77869  1.0   0.0   \n",
       "2  /Users/ypw/Desktop/a/IMG/right_2017_01_05_10_3... -51.98100  1.0   0.0   \n",
       "3  /Users/ypw/Desktop/a/IMG/right_2017_01_05_10_3... -21.23459  1.0   0.0   \n",
       "4  /Users/ypw/Desktop/a/IMG/right_2017_01_05_10_3...   0.00000  1.0   0.0   \n",
       "\n",
       "      speed  \n",
       "0  30.14583  \n",
       "1  30.10305  \n",
       "2  30.18893  \n",
       "3  30.19710  \n",
       "4  30.18751  "
      ]
     },
     "execution_count": 2,
     "metadata": {},
     "output_type": "execute_result"
    }
   ],
   "source": [
    "df = pd.read_csv('driving_log.csv', skipinitialspace=True)\n",
    "df.columns = ['center', 'left', 'right', 'dir', 'acc', 'nacc', 'speed']\n",
    "df = df.drop((df[df['acc'] != 1]).index)\n",
    "df = df.drop((df[df['speed'] < 30.1]).index)\n",
    "print df['speed'].mean(), df['dir'].mean(), df['dir'].max(), df['dir'].min()\n",
    "df = df.reset_index(drop=True)\n",
    "df['dir'] = df['dir'] * 100\n",
    "df.head()"
   ]
  },
  {
   "cell_type": "code",
   "execution_count": 3,
   "metadata": {
    "collapsed": false
   },
   "outputs": [
    {
     "data": {
      "text/html": [
       "<div>\n",
       "<table border=\"1\" class=\"dataframe\">\n",
       "  <thead>\n",
       "    <tr style=\"text-align: right;\">\n",
       "      <th></th>\n",
       "      <th>filename</th>\n",
       "      <th>dir</th>\n",
       "    </tr>\n",
       "  </thead>\n",
       "  <tbody>\n",
       "    <tr>\n",
       "      <th>0</th>\n",
       "      <td>/Users/ypw/Desktop/a/IMG/center_2017_01_05_10_...</td>\n",
       "      <td>-46.68390</td>\n",
       "    </tr>\n",
       "    <tr>\n",
       "      <th>1</th>\n",
       "      <td>/Users/ypw/Desktop/a/IMG/center_2017_01_05_10_...</td>\n",
       "      <td>-82.77869</td>\n",
       "    </tr>\n",
       "    <tr>\n",
       "      <th>2</th>\n",
       "      <td>/Users/ypw/Desktop/a/IMG/center_2017_01_05_10_...</td>\n",
       "      <td>-51.98100</td>\n",
       "    </tr>\n",
       "    <tr>\n",
       "      <th>3</th>\n",
       "      <td>/Users/ypw/Desktop/a/IMG/center_2017_01_05_10_...</td>\n",
       "      <td>-21.23459</td>\n",
       "    </tr>\n",
       "    <tr>\n",
       "      <th>4</th>\n",
       "      <td>/Users/ypw/Desktop/a/IMG/center_2017_01_05_10_...</td>\n",
       "      <td>0.00000</td>\n",
       "    </tr>\n",
       "  </tbody>\n",
       "</table>\n",
       "</div>"
      ],
      "text/plain": [
       "                                            filename       dir\n",
       "0  /Users/ypw/Desktop/a/IMG/center_2017_01_05_10_... -46.68390\n",
       "1  /Users/ypw/Desktop/a/IMG/center_2017_01_05_10_... -82.77869\n",
       "2  /Users/ypw/Desktop/a/IMG/center_2017_01_05_10_... -51.98100\n",
       "3  /Users/ypw/Desktop/a/IMG/center_2017_01_05_10_... -21.23459\n",
       "4  /Users/ypw/Desktop/a/IMG/center_2017_01_05_10_...   0.00000"
      ]
     },
     "execution_count": 3,
     "metadata": {},
     "output_type": "execute_result"
    }
   ],
   "source": [
    "df = df.drop(['left', 'right', 'acc', 'nacc', 'speed'], axis=1)\n",
    "df.columns = ['filename', 'dir']\n",
    "df.head()"
   ]
  },
  {
   "cell_type": "code",
   "execution_count": 4,
   "metadata": {
    "collapsed": false
   },
   "outputs": [
    {
     "name": "stdout",
     "output_type": "stream",
     "text": [
      "21417 1128\n"
     ]
    }
   ],
   "source": [
    "batch = 64\n",
    "image_shape = (128, 128)\n",
    "\n",
    "df_train, df_val = train_test_split(df, test_size=0.05, random_state=42)\n",
    "train = BatchGenerator(df_train, batch, image_shape)\n",
    "val = BatchGenerator(df_val, batch, image_shape)\n",
    "\n",
    "print train.num, val.num"
   ]
  },
  {
   "cell_type": "code",
   "execution_count": 5,
   "metadata": {
    "collapsed": false
   },
   "outputs": [],
   "source": [
    "from keras.applications import VGG16\n",
    "\n",
    "img_input = Input(shape=(image_shape[1], image_shape[0], 3))\n",
    "base_model = VGG16(weights='imagenet', input_tensor=img_input, include_top=False)"
   ]
  },
  {
   "cell_type": "code",
   "execution_count": 6,
   "metadata": {
    "collapsed": false
   },
   "outputs": [],
   "source": [
    "x = base_model.output\n",
    "\n",
    "x = Flatten()(x)\n",
    "x = Dense(2048, activation='relu')(x)\n",
    "x = Dense(2048, activation='relu')(x)\n",
    "x = Dense(1)(x)\n",
    "\n",
    "model = Model(input=base_model.input, output=x)\n",
    "\n",
    "model.compile(loss='mse', optimizer='adadelta', metrics=['accuracy'])"
   ]
  },
  {
   "cell_type": "code",
   "execution_count": 7,
   "metadata": {
    "collapsed": false
   },
   "outputs": [
    {
     "name": "stdout",
     "output_type": "stream",
     "text": [
      "____________________________________________________________________________________________________\n",
      "Layer (type)                     Output Shape          Param #     Connected to                     \n",
      "====================================================================================================\n",
      "input_1 (InputLayer)             (None, 128, 128, 3)   0                                            \n",
      "____________________________________________________________________________________________________\n",
      "block1_conv1 (Convolution2D)     (None, 128, 128, 64)  1792        input_1[0][0]                    \n",
      "____________________________________________________________________________________________________\n",
      "block1_conv2 (Convolution2D)     (None, 128, 128, 64)  36928       block1_conv1[0][0]               \n",
      "____________________________________________________________________________________________________\n",
      "block1_pool (MaxPooling2D)       (None, 64, 64, 64)    0           block1_conv2[0][0]               \n",
      "____________________________________________________________________________________________________\n",
      "block2_conv1 (Convolution2D)     (None, 64, 64, 128)   73856       block1_pool[0][0]                \n",
      "____________________________________________________________________________________________________\n",
      "block2_conv2 (Convolution2D)     (None, 64, 64, 128)   147584      block2_conv1[0][0]               \n",
      "____________________________________________________________________________________________________\n",
      "block2_pool (MaxPooling2D)       (None, 32, 32, 128)   0           block2_conv2[0][0]               \n",
      "____________________________________________________________________________________________________\n",
      "block3_conv1 (Convolution2D)     (None, 32, 32, 256)   295168      block2_pool[0][0]                \n",
      "____________________________________________________________________________________________________\n",
      "block3_conv2 (Convolution2D)     (None, 32, 32, 256)   590080      block3_conv1[0][0]               \n",
      "____________________________________________________________________________________________________\n",
      "block3_conv3 (Convolution2D)     (None, 32, 32, 256)   590080      block3_conv2[0][0]               \n",
      "____________________________________________________________________________________________________\n",
      "block3_pool (MaxPooling2D)       (None, 16, 16, 256)   0           block3_conv3[0][0]               \n",
      "____________________________________________________________________________________________________\n",
      "block4_conv1 (Convolution2D)     (None, 16, 16, 512)   1180160     block3_pool[0][0]                \n",
      "____________________________________________________________________________________________________\n",
      "block4_conv2 (Convolution2D)     (None, 16, 16, 512)   2359808     block4_conv1[0][0]               \n",
      "____________________________________________________________________________________________________\n",
      "block4_conv3 (Convolution2D)     (None, 16, 16, 512)   2359808     block4_conv2[0][0]               \n",
      "____________________________________________________________________________________________________\n",
      "block4_pool (MaxPooling2D)       (None, 8, 8, 512)     0           block4_conv3[0][0]               \n",
      "____________________________________________________________________________________________________\n",
      "block5_conv1 (Convolution2D)     (None, 8, 8, 512)     2359808     block4_pool[0][0]                \n",
      "____________________________________________________________________________________________________\n",
      "block5_conv2 (Convolution2D)     (None, 8, 8, 512)     2359808     block5_conv1[0][0]               \n",
      "____________________________________________________________________________________________________\n",
      "block5_conv3 (Convolution2D)     (None, 8, 8, 512)     2359808     block5_conv2[0][0]               \n",
      "____________________________________________________________________________________________________\n",
      "block5_pool (MaxPooling2D)       (None, 4, 4, 512)     0           block5_conv3[0][0]               \n",
      "____________________________________________________________________________________________________\n",
      "flatten_1 (Flatten)              (None, 8192)          0           block5_pool[0][0]                \n",
      "____________________________________________________________________________________________________\n",
      "dense_1 (Dense)                  (None, 2048)          16779264    flatten_1[0][0]                  \n",
      "____________________________________________________________________________________________________\n",
      "dense_2 (Dense)                  (None, 2048)          4196352     dense_1[0][0]                    \n",
      "____________________________________________________________________________________________________\n",
      "dense_3 (Dense)                  (None, 1)             2049        dense_2[0][0]                    \n",
      "====================================================================================================\n",
      "Total params: 35,692,353\n",
      "Trainable params: 35,692,353\n",
      "Non-trainable params: 0\n",
      "____________________________________________________________________________________________________\n"
     ]
    }
   ],
   "source": [
    "model.summary()"
   ]
  },
  {
   "cell_type": "code",
   "execution_count": 8,
   "metadata": {
    "collapsed": false
   },
   "outputs": [
    {
     "data": {
      "text/plain": [
       "[(0, <keras.engine.topology.InputLayer at 0x1115de750>),\n",
       " (1, <keras.layers.convolutional.Convolution2D at 0x15c308ed0>),\n",
       " (2, <keras.layers.convolutional.Convolution2D at 0x15c327090>),\n",
       " (3, <keras.layers.pooling.MaxPooling2D at 0x160db4090>),\n",
       " (4, <keras.layers.convolutional.Convolution2D at 0x160de5e90>),\n",
       " (5, <keras.layers.convolutional.Convolution2D at 0x160eac310>),\n",
       " (6, <keras.layers.pooling.MaxPooling2D at 0x160ee4f50>),\n",
       " (7, <keras.layers.convolutional.Convolution2D at 0x160eacad0>),\n",
       " (8, <keras.layers.convolutional.Convolution2D at 0x160ef2ad0>),\n",
       " (9, <keras.layers.convolutional.Convolution2D at 0x1610fbf50>),\n",
       " (10, <keras.layers.pooling.MaxPooling2D at 0x161109450>),\n",
       " (11, <keras.layers.convolutional.Convolution2D at 0x161144a10>),\n",
       " (12, <keras.layers.convolutional.Convolution2D at 0x161144610>),\n",
       " (13, <keras.layers.convolutional.Convolution2D at 0x1611911d0>),\n",
       " (14, <keras.layers.pooling.MaxPooling2D at 0x1611cc850>),\n",
       " (15, <keras.layers.convolutional.Convolution2D at 0x161206dd0>),\n",
       " (16, <keras.layers.convolutional.Convolution2D at 0x161206510>),\n",
       " (17, <keras.layers.convolutional.Convolution2D at 0x16140bf90>),\n",
       " (18, <keras.layers.pooling.MaxPooling2D at 0x161419d10>),\n",
       " (19, <keras.layers.core.Flatten at 0x1620306d0>),\n",
       " (20, <keras.layers.core.Dense at 0x161cdaf10>),\n",
       " (21, <keras.layers.core.Dense at 0x161cdad50>),\n",
       " (22, <keras.layers.core.Dense at 0x165dd5050>)]"
      ]
     },
     "execution_count": 8,
     "metadata": {},
     "output_type": "execute_result"
    }
   ],
   "source": [
    "zip(range(len(model.layers)), model.layers)"
   ]
  },
  {
   "cell_type": "code",
   "execution_count": 9,
   "metadata": {
    "collapsed": false
   },
   "outputs": [
    {
     "data": {
      "text/plain": [
       "(0.023049645390070921, 438.7745818009613)"
      ]
     },
     "execution_count": 9,
     "metadata": {},
     "output_type": "execute_result"
    }
   ],
   "source": [
    "val_num = len(df_val.index)\n",
    "X_valid = np.ndarray((val_num, image_shape[1], image_shape[0], 3), dtype=np.float32)\n",
    "y_valid = np.ndarray((val_num, 1), dtype=np.float32)\n",
    "for i, index in enumerate(df_val.index):\n",
    "    img = cv2.imread(df_val.loc[index]['filename'])\n",
    "    img = cv2.resize(img, image_shape)\n",
    "    X_valid[i] = img\n",
    "    y_valid[i] = df_val.loc[index]['dir']\n",
    "\n",
    "def validation():\n",
    "    loss, acc = model.evaluate(X_valid, y_valid, verbose=0)\n",
    "    return acc, loss\n",
    "\n",
    "validation()"
   ]
  },
  {
   "cell_type": "code",
   "execution_count": 10,
   "metadata": {
    "collapsed": true
   },
   "outputs": [],
   "source": [
    "def train_one_batch(generator):\n",
    "    acc = Smooth()\n",
    "    loss = Smooth()\n",
    "    batch_num = generator.num/batch\n",
    "    pbar = tqdm(xrange(batch_num))\n",
    "    for i in pbar:\n",
    "        X, y = generator.next()\n",
    "        _loss, _acc = model.train_on_batch(X, y)\n",
    "        acc += _acc\n",
    "        loss += _loss\n",
    "        \n",
    "        if i != batch_num-1:\n",
    "            pbar.set_description(\"train loss: %.4f\" % loss)\n",
    "        else:\n",
    "            pbar.set_description(\"train loss: %.4f\\t valid loss: %.4f\\t\" % (loss, validation()[1]))\n",
    "\n",
    "def transfer_learning(top_num=-4, epoch=10, optimizer='adadelta'):\n",
    "    for layer in model.layers[:top_num]:\n",
    "        layer.trainable = False\n",
    "\n",
    "    for layer in model.layers[top_num:]:\n",
    "        layer.trainable = True\n",
    "    \n",
    "    model.compile(loss='mse', optimizer=optimizer, metrics=['accuracy'])\n",
    "    \n",
    "    for i in range(epoch):\n",
    "        train_one_batch(train)"
   ]
  },
  {
   "cell_type": "code",
   "execution_count": 11,
   "metadata": {
    "collapsed": false
   },
   "outputs": [
    {
     "name": "stderr",
     "output_type": "stream",
     "text": [
      "train loss: 162.0149\t valid loss: 166.9981\t: 100%|██████████| 334/334 [01:23<00:00,  1.02s/it]\n",
      "train loss: 145.6530\t valid loss: 164.0190\t: 100%|██████████| 334/334 [01:21<00:00,  1.01s/it]\n",
      "train loss: 132.5225\t valid loss: 167.2238\t: 100%|██████████| 334/334 [01:23<00:00,  1.04s/it]\n",
      "train loss: 115.9547\t valid loss: 185.5273\t: 100%|██████████| 334/334 [01:23<00:00,  1.05s/it]\n",
      "train loss: 103.6704\t valid loss: 169.1236\t: 100%|██████████| 334/334 [01:23<00:00,  1.05s/it]\n",
      "train loss: 102.9973\t valid loss: 164.0933\t: 100%|██████████| 334/334 [01:23<00:00,  1.04s/it]\n"
     ]
    }
   ],
   "source": [
    "transfer_learning(18, epoch=6)"
   ]
  },
  {
   "cell_type": "code",
   "execution_count": 12,
   "metadata": {
    "collapsed": false
   },
   "outputs": [
    {
     "name": "stderr",
     "output_type": "stream",
     "text": [
      "train loss: 167.4847\t valid loss: 186.5851\t: 100%|██████████| 334/334 [01:37<00:00,  1.09s/it]\n",
      "train loss: 136.4206\t valid loss: 176.3771\t: 100%|██████████| 334/334 [01:36<00:00,  1.08s/it]\n",
      "train loss: 136.2405\t valid loss: 172.6809\t: 100%|██████████| 334/334 [01:36<00:00,  1.08s/it]\n",
      "train loss: 110.5120\t valid loss: 159.0068\t: 100%|██████████| 334/334 [01:36<00:00,  1.09s/it]\n"
     ]
    }
   ],
   "source": [
    "transfer_learning(14, epoch=4)"
   ]
  },
  {
   "cell_type": "code",
   "execution_count": 13,
   "metadata": {
    "collapsed": false
   },
   "outputs": [
    {
     "data": {
      "text/plain": [
       "[([0.0], [-0.682125985622406]),\n",
       " ([26.04660987854004], [2.0592830181121826]),\n",
       " ([0.0], [1.5431612730026245]),\n",
       " ([25.499990463256836], [1.3266446590423584]),\n",
       " ([-7.867490768432617], [-1.7862656116485596]),\n",
       " ([-15.260109901428223], [-5.352181434631348]),\n",
       " ([13.276789665222168], [5.263405799865723]),\n",
       " ([11.388890266418457], [28.26003646850586]),\n",
       " ([0.0], [0.2926846146583557]),\n",
       " ([0.0], [3.567487955093384]),\n",
       " ([0.0], [-4.981549263000488]),\n",
       " ([55.76189041137695], [29.68886375427246]),\n",
       " ([0.0], [-1.2190297842025757]),\n",
       " ([7.254605770111084], [11.70290470123291]),\n",
       " ([-21.605690002441406], [-22.61895751953125]),\n",
       " ([0.0], [0.06620453298091888]),\n",
       " ([0.0], [-3.1688709259033203]),\n",
       " ([0.0], [21.272125244140625]),\n",
       " ([10.624799728393555], [3.084975481033325]),\n",
       " ([40.6875], [-11.323773384094238]),\n",
       " ([-16.798189163208008], [0.5051746964454651]),\n",
       " ([-6.286794185638428], [-26.85157012939453]),\n",
       " ([-5.072397232055664], [-24.06559944152832]),\n",
       " ([0.0], [3.161877393722534]),\n",
       " ([-24.44399070739746], [-25.36241340637207]),\n",
       " ([0.0], [1.9847429990768433]),\n",
       " ([-13.523719787597656], [-28.481231689453125]),\n",
       " ([0.0], [-1.215569019317627]),\n",
       " ([0.0], [2.36859393119812]),\n",
       " ([0.0], [0.681761622428894]),\n",
       " ([0.0], [0.33871740102767944]),\n",
       " ([0.0], [-1.0636732578277588]),\n",
       " ([0.0], [-0.6131440997123718]),\n",
       " ([0.0], [7.307065963745117]),\n",
       " ([0.0], [-0.7071627378463745]),\n",
       " ([-10.501190185546875], [-14.630302429199219]),\n",
       " ([0.0], [-0.47976231575012207]),\n",
       " ([-18.080379486083984], [-25.025102615356445]),\n",
       " ([32.118919372558594], [3.3673667907714844]),\n",
       " ([19.531200408935547], [41.16834259033203]),\n",
       " ([0.0], [8.043972969055176]),\n",
       " ([-8.519392967224121], [-1.1608530282974243]),\n",
       " ([-17.65682029724121], [-3.744844913482666]),\n",
       " ([0.0], [0.22868691384792328]),\n",
       " ([0.0], [-0.07354890555143356]),\n",
       " ([-19.94729995727539], [-22.846513748168945]),\n",
       " ([0.0], [0.3055149018764496]),\n",
       " ([23.923500061035156], [7.135884761810303]),\n",
       " ([0.0], [-1.1513376235961914]),\n",
       " ([0.0], [-6.147640705108643]),\n",
       " ([20.02741050720215], [8.329526901245117]),\n",
       " ([0.0], [-1.9883173704147339]),\n",
       " ([0.0], [1.0245256423950195]),\n",
       " ([0.0], [0.7116234302520752]),\n",
       " ([0.0], [-2.2969908714294434]),\n",
       " ([16.828519821166992], [11.69658374786377]),\n",
       " ([-16.719890594482422], [-6.583495616912842]),\n",
       " ([-14.95110034942627], [-0.8652843236923218]),\n",
       " ([0.0], [0.46948835253715515]),\n",
       " ([0.0], [-0.06874698400497437]),\n",
       " ([6.509095191955566], [4.100968837738037]),\n",
       " ([0.0], [-0.01987798511981964]),\n",
       " ([6.38580322265625], [22.62491226196289]),\n",
       " ([0.0], [-5.980481147766113])]"
      ]
     },
     "execution_count": 13,
     "metadata": {},
     "output_type": "execute_result"
    }
   ],
   "source": [
    "X_val, y_val = val.next()\n",
    "y_pred = model.predict(X_val)\n",
    "delta = y_val - y_pred\n",
    "\n",
    "zip(y_val.tolist(), y_pred.tolist())"
   ]
  },
  {
   "cell_type": "code",
   "execution_count": 14,
   "metadata": {
    "collapsed": false
   },
   "outputs": [],
   "source": [
    "model.save('model.h5', overwrite=True)"
   ]
  },
  {
   "cell_type": "code",
   "execution_count": 15,
   "metadata": {
    "collapsed": true
   },
   "outputs": [],
   "source": [
    "from keras.applications import VGG16\n",
    "\n",
    "img_input = Input(shape=(image_shape[1], image_shape[0], 3))\n",
    "base_model = VGG16(weights='imagenet', input_tensor=img_input, include_top=False)\n",
    "\n",
    "x = base_model.output\n",
    "\n",
    "x = Flatten()(x)\n",
    "x = Dense(2048, activation='relu')(x)\n",
    "x = Dense(2048, activation='relu')(x)\n",
    "x = Dense(1)(x)\n",
    "\n",
    "model = Model(input=base_model.input, output=x)\n",
    "\n",
    "model.compile(loss='mse', optimizer='adadelta', metrics=['accuracy'])\n",
    "\n",
    "with open('model.json', 'w') as f:\n",
    "    f.write(model.to_json())"
   ]
  },
  {
   "cell_type": "code",
   "execution_count": null,
   "metadata": {
    "collapsed": true
   },
   "outputs": [],
   "source": []
  }
 ],
 "metadata": {
  "kernelspec": {
   "display_name": "Python 2",
   "language": "python",
   "name": "python2"
  },
  "language_info": {
   "codemirror_mode": {
    "name": "ipython",
    "version": 2
   },
   "file_extension": ".py",
   "mimetype": "text/x-python",
   "name": "python",
   "nbconvert_exporter": "python",
   "pygments_lexer": "ipython2",
   "version": "2.7.13"
  }
 },
 "nbformat": 4,
 "nbformat_minor": 2
}
