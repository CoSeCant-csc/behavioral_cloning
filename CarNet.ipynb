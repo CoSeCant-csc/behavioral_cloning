{
 "cells": [
  {
   "cell_type": "code",
   "execution_count": 1,
   "metadata": {
    "collapsed": false
   },
   "outputs": [
    {
     "name": "stderr",
     "output_type": "stream",
     "text": [
      "Using TensorFlow backend.\n"
     ]
    }
   ],
   "source": [
    "from keras.datasets import mnist\n",
    "from keras.models import Sequential, Model\n",
    "from keras.layers import Dense, Dropout, Activation, Flatten, BatchNormalization, merge, Input, BatchNormalization\n",
    "from keras.layers import Convolution2D, MaxPooling2D, ZeroPadding2D, AveragePooling2D, GlobalAveragePooling2D\n",
    "from keras.utils import np_utils\n",
    "from keras.models import model_from_json\n",
    "from keras import backend as K\n",
    "from keras.preprocessing import image\n",
    "from keras.optimizers import SGD\n",
    "from keras.utils.data_utils import get_file\n",
    "import random\n",
    "import os\n",
    "import cv2\n",
    "\n",
    "from utils import Smooth, BatchGenerator\n",
    "\n",
    "import pandas as pd\n",
    "from tqdm import tqdm\n",
    "from sklearn.model_selection import train_test_split\n",
    "\n",
    "import numpy as np\n",
    "import tensorflow as tf\n",
    "import matplotlib.pyplot as plt\n",
    "\n",
    "%matplotlib inline\n",
    "%config InlineBackend.figure_format = 'retina'\n",
    "\n",
    "from keras.backend.tensorflow_backend import set_session\n",
    "import tensorflow as tf\n",
    "\n",
    "config = tf.ConfigProto()\n",
    "config.gpu_options.allow_growth=True\n",
    "set_session(tf.Session(config=config))"
   ]
  },
  {
   "cell_type": "code",
   "execution_count": 2,
   "metadata": {
    "collapsed": false
   },
   "outputs": [
    {
     "name": "stdout",
     "output_type": "stream",
     "text": [
      "30.1862628077\n"
     ]
    },
    {
     "data": {
      "text/html": [
       "<div>\n",
       "<table border=\"1\" class=\"dataframe\">\n",
       "  <thead>\n",
       "    <tr style=\"text-align: right;\">\n",
       "      <th></th>\n",
       "      <th>center</th>\n",
       "      <th>left</th>\n",
       "      <th>right</th>\n",
       "      <th>dir</th>\n",
       "      <th>acc</th>\n",
       "      <th>nacc</th>\n",
       "      <th>speed</th>\n",
       "    </tr>\n",
       "  </thead>\n",
       "  <tbody>\n",
       "    <tr>\n",
       "      <th>0</th>\n",
       "      <td>/Users/ypw/Desktop/a/IMG/center_2017_01_05_10_...</td>\n",
       "      <td>/Users/ypw/Desktop/a/IMG/left_2017_01_05_10_33...</td>\n",
       "      <td>/Users/ypw/Desktop/a/IMG/right_2017_01_05_10_3...</td>\n",
       "      <td>-46.68390</td>\n",
       "      <td>1.0</td>\n",
       "      <td>0.0</td>\n",
       "      <td>30.14583</td>\n",
       "    </tr>\n",
       "    <tr>\n",
       "      <th>1</th>\n",
       "      <td>/Users/ypw/Desktop/a/IMG/center_2017_01_05_10_...</td>\n",
       "      <td>/Users/ypw/Desktop/a/IMG/left_2017_01_05_10_33...</td>\n",
       "      <td>/Users/ypw/Desktop/a/IMG/right_2017_01_05_10_3...</td>\n",
       "      <td>-82.77869</td>\n",
       "      <td>1.0</td>\n",
       "      <td>0.0</td>\n",
       "      <td>30.10305</td>\n",
       "    </tr>\n",
       "    <tr>\n",
       "      <th>2</th>\n",
       "      <td>/Users/ypw/Desktop/a/IMG/center_2017_01_05_10_...</td>\n",
       "      <td>/Users/ypw/Desktop/a/IMG/left_2017_01_05_10_33...</td>\n",
       "      <td>/Users/ypw/Desktop/a/IMG/right_2017_01_05_10_3...</td>\n",
       "      <td>-51.98100</td>\n",
       "      <td>1.0</td>\n",
       "      <td>0.0</td>\n",
       "      <td>30.18893</td>\n",
       "    </tr>\n",
       "    <tr>\n",
       "      <th>3</th>\n",
       "      <td>/Users/ypw/Desktop/a/IMG/center_2017_01_05_10_...</td>\n",
       "      <td>/Users/ypw/Desktop/a/IMG/left_2017_01_05_10_33...</td>\n",
       "      <td>/Users/ypw/Desktop/a/IMG/right_2017_01_05_10_3...</td>\n",
       "      <td>-21.23459</td>\n",
       "      <td>1.0</td>\n",
       "      <td>0.0</td>\n",
       "      <td>30.19710</td>\n",
       "    </tr>\n",
       "    <tr>\n",
       "      <th>4</th>\n",
       "      <td>/Users/ypw/Desktop/a/IMG/center_2017_01_05_10_...</td>\n",
       "      <td>/Users/ypw/Desktop/a/IMG/left_2017_01_05_10_33...</td>\n",
       "      <td>/Users/ypw/Desktop/a/IMG/right_2017_01_05_10_3...</td>\n",
       "      <td>0.00000</td>\n",
       "      <td>1.0</td>\n",
       "      <td>0.0</td>\n",
       "      <td>30.18751</td>\n",
       "    </tr>\n",
       "  </tbody>\n",
       "</table>\n",
       "</div>"
      ],
      "text/plain": [
       "                                              center  \\\n",
       "0  /Users/ypw/Desktop/a/IMG/center_2017_01_05_10_...   \n",
       "1  /Users/ypw/Desktop/a/IMG/center_2017_01_05_10_...   \n",
       "2  /Users/ypw/Desktop/a/IMG/center_2017_01_05_10_...   \n",
       "3  /Users/ypw/Desktop/a/IMG/center_2017_01_05_10_...   \n",
       "4  /Users/ypw/Desktop/a/IMG/center_2017_01_05_10_...   \n",
       "\n",
       "                                                left  \\\n",
       "0  /Users/ypw/Desktop/a/IMG/left_2017_01_05_10_33...   \n",
       "1  /Users/ypw/Desktop/a/IMG/left_2017_01_05_10_33...   \n",
       "2  /Users/ypw/Desktop/a/IMG/left_2017_01_05_10_33...   \n",
       "3  /Users/ypw/Desktop/a/IMG/left_2017_01_05_10_33...   \n",
       "4  /Users/ypw/Desktop/a/IMG/left_2017_01_05_10_33...   \n",
       "\n",
       "                                               right       dir  acc  nacc  \\\n",
       "0  /Users/ypw/Desktop/a/IMG/right_2017_01_05_10_3... -46.68390  1.0   0.0   \n",
       "1  /Users/ypw/Desktop/a/IMG/right_2017_01_05_10_3... -82.77869  1.0   0.0   \n",
       "2  /Users/ypw/Desktop/a/IMG/right_2017_01_05_10_3... -51.98100  1.0   0.0   \n",
       "3  /Users/ypw/Desktop/a/IMG/right_2017_01_05_10_3... -21.23459  1.0   0.0   \n",
       "4  /Users/ypw/Desktop/a/IMG/right_2017_01_05_10_3...   0.00000  1.0   0.0   \n",
       "\n",
       "      speed  \n",
       "0  30.14583  \n",
       "1  30.10305  \n",
       "2  30.18893  \n",
       "3  30.19710  \n",
       "4  30.18751  "
      ]
     },
     "execution_count": 2,
     "metadata": {},
     "output_type": "execute_result"
    }
   ],
   "source": [
    "df = pd.read_csv('driving_log.csv', skipinitialspace=True)\n",
    "df.columns = ['center', 'left', 'right', 'dir', 'acc', 'nacc', 'speed']\n",
    "df = df.drop((df[df['acc'] != 1]).index)\n",
    "df = df.drop((df[df['speed'] < 30.1]).index)\n",
    "print df['speed'].mean()\n",
    "df = df.reset_index(drop=True)\n",
    "df['dir'] = df['dir'] * 100\n",
    "df.head()"
   ]
  },
  {
   "cell_type": "code",
   "execution_count": 3,
   "metadata": {
    "collapsed": false
   },
   "outputs": [
    {
     "data": {
      "text/html": [
       "<div>\n",
       "<table border=\"1\" class=\"dataframe\">\n",
       "  <thead>\n",
       "    <tr style=\"text-align: right;\">\n",
       "      <th></th>\n",
       "      <th>filename</th>\n",
       "      <th>dir</th>\n",
       "    </tr>\n",
       "  </thead>\n",
       "  <tbody>\n",
       "    <tr>\n",
       "      <th>0</th>\n",
       "      <td>/Users/ypw/Desktop/a/IMG/center_2017_01_05_10_...</td>\n",
       "      <td>-46.68390</td>\n",
       "    </tr>\n",
       "    <tr>\n",
       "      <th>1</th>\n",
       "      <td>/Users/ypw/Desktop/a/IMG/center_2017_01_05_10_...</td>\n",
       "      <td>-82.77869</td>\n",
       "    </tr>\n",
       "    <tr>\n",
       "      <th>2</th>\n",
       "      <td>/Users/ypw/Desktop/a/IMG/center_2017_01_05_10_...</td>\n",
       "      <td>-51.98100</td>\n",
       "    </tr>\n",
       "    <tr>\n",
       "      <th>3</th>\n",
       "      <td>/Users/ypw/Desktop/a/IMG/center_2017_01_05_10_...</td>\n",
       "      <td>-21.23459</td>\n",
       "    </tr>\n",
       "    <tr>\n",
       "      <th>4</th>\n",
       "      <td>/Users/ypw/Desktop/a/IMG/center_2017_01_05_10_...</td>\n",
       "      <td>0.00000</td>\n",
       "    </tr>\n",
       "  </tbody>\n",
       "</table>\n",
       "</div>"
      ],
      "text/plain": [
       "                                            filename       dir\n",
       "0  /Users/ypw/Desktop/a/IMG/center_2017_01_05_10_... -46.68390\n",
       "1  /Users/ypw/Desktop/a/IMG/center_2017_01_05_10_... -82.77869\n",
       "2  /Users/ypw/Desktop/a/IMG/center_2017_01_05_10_... -51.98100\n",
       "3  /Users/ypw/Desktop/a/IMG/center_2017_01_05_10_... -21.23459\n",
       "4  /Users/ypw/Desktop/a/IMG/center_2017_01_05_10_...   0.00000"
      ]
     },
     "execution_count": 3,
     "metadata": {},
     "output_type": "execute_result"
    }
   ],
   "source": [
    "df = df.drop(['left', 'right', 'acc', 'nacc', 'speed'], axis=1)\n",
    "df.columns = ['filename', 'dir']\n",
    "df.head()"
   ]
  },
  {
   "cell_type": "code",
   "execution_count": 4,
   "metadata": {
    "collapsed": false
   },
   "outputs": [
    {
     "name": "stdout",
     "output_type": "stream",
     "text": [
      "21417 1128\n"
     ]
    }
   ],
   "source": [
    "batch = 64\n",
    "image_shape = (128, 128)\n",
    "\n",
    "df_train, df_val = train_test_split(df, test_size=0.05, random_state=42)\n",
    "train = BatchGenerator(df_train, batch, image_shape)\n",
    "val = BatchGenerator(df_val, batch, image_shape)\n",
    "\n",
    "print train.num, val.num"
   ]
  },
  {
   "cell_type": "code",
   "execution_count": 5,
   "metadata": {
    "collapsed": true
   },
   "outputs": [],
   "source": [
    "from keras.applications import VGG16\n",
    "\n",
    "img_input = Input(shape=(image_shape[1], image_shape[0], 3))\n",
    "base_model = VGG16(weights='imagenet', input_tensor=img_input, include_top=False)"
   ]
  },
  {
   "cell_type": "code",
   "execution_count": 6,
   "metadata": {
    "collapsed": false
   },
   "outputs": [],
   "source": [
    "x = base_model.output\n",
    "\n",
    "x = Flatten()(x)\n",
    "x = Dense(2048, activation='relu')(x)\n",
    "x = Dense(2048, activation='relu')(x)\n",
    "x = Dense(1)(x)\n",
    "\n",
    "model = Model(input=base_model.input, output=x)\n",
    "\n",
    "model.compile(loss='mse', optimizer='adadelta', metrics=['accuracy'])"
   ]
  },
  {
   "cell_type": "code",
   "execution_count": 7,
   "metadata": {
    "collapsed": false
   },
   "outputs": [
    {
     "name": "stdout",
     "output_type": "stream",
     "text": [
      "____________________________________________________________________________________________________\n",
      "Layer (type)                     Output Shape          Param #     Connected to                     \n",
      "====================================================================================================\n",
      "input_1 (InputLayer)             (None, 128, 128, 3)   0                                            \n",
      "____________________________________________________________________________________________________\n",
      "block1_conv1 (Convolution2D)     (None, 128, 128, 64)  1792        input_1[0][0]                    \n",
      "____________________________________________________________________________________________________\n",
      "block1_conv2 (Convolution2D)     (None, 128, 128, 64)  36928       block1_conv1[0][0]               \n",
      "____________________________________________________________________________________________________\n",
      "block1_pool (MaxPooling2D)       (None, 64, 64, 64)    0           block1_conv2[0][0]               \n",
      "____________________________________________________________________________________________________\n",
      "block2_conv1 (Convolution2D)     (None, 64, 64, 128)   73856       block1_pool[0][0]                \n",
      "____________________________________________________________________________________________________\n",
      "block2_conv2 (Convolution2D)     (None, 64, 64, 128)   147584      block2_conv1[0][0]               \n",
      "____________________________________________________________________________________________________\n",
      "block2_pool (MaxPooling2D)       (None, 32, 32, 128)   0           block2_conv2[0][0]               \n",
      "____________________________________________________________________________________________________\n",
      "block3_conv1 (Convolution2D)     (None, 32, 32, 256)   295168      block2_pool[0][0]                \n",
      "____________________________________________________________________________________________________\n",
      "block3_conv2 (Convolution2D)     (None, 32, 32, 256)   590080      block3_conv1[0][0]               \n",
      "____________________________________________________________________________________________________\n",
      "block3_conv3 (Convolution2D)     (None, 32, 32, 256)   590080      block3_conv2[0][0]               \n",
      "____________________________________________________________________________________________________\n",
      "block3_pool (MaxPooling2D)       (None, 16, 16, 256)   0           block3_conv3[0][0]               \n",
      "____________________________________________________________________________________________________\n",
      "block4_conv1 (Convolution2D)     (None, 16, 16, 512)   1180160     block3_pool[0][0]                \n",
      "____________________________________________________________________________________________________\n",
      "block4_conv2 (Convolution2D)     (None, 16, 16, 512)   2359808     block4_conv1[0][0]               \n",
      "____________________________________________________________________________________________________\n",
      "block4_conv3 (Convolution2D)     (None, 16, 16, 512)   2359808     block4_conv2[0][0]               \n",
      "____________________________________________________________________________________________________\n",
      "block4_pool (MaxPooling2D)       (None, 8, 8, 512)     0           block4_conv3[0][0]               \n",
      "____________________________________________________________________________________________________\n",
      "block5_conv1 (Convolution2D)     (None, 8, 8, 512)     2359808     block4_pool[0][0]                \n",
      "____________________________________________________________________________________________________\n",
      "block5_conv2 (Convolution2D)     (None, 8, 8, 512)     2359808     block5_conv1[0][0]               \n",
      "____________________________________________________________________________________________________\n",
      "block5_conv3 (Convolution2D)     (None, 8, 8, 512)     2359808     block5_conv2[0][0]               \n",
      "____________________________________________________________________________________________________\n",
      "block5_pool (MaxPooling2D)       (None, 4, 4, 512)     0           block5_conv3[0][0]               \n",
      "____________________________________________________________________________________________________\n",
      "flatten_1 (Flatten)              (None, 8192)          0           block5_pool[0][0]                \n",
      "____________________________________________________________________________________________________\n",
      "dense_1 (Dense)                  (None, 2048)          16779264    flatten_1[0][0]                  \n",
      "____________________________________________________________________________________________________\n",
      "dense_2 (Dense)                  (None, 2048)          4196352     dense_1[0][0]                    \n",
      "____________________________________________________________________________________________________\n",
      "dense_3 (Dense)                  (None, 1)             2049        dense_2[0][0]                    \n",
      "====================================================================================================\n",
      "Total params: 35,692,353\n",
      "Trainable params: 35,692,353\n",
      "Non-trainable params: 0\n",
      "____________________________________________________________________________________________________\n"
     ]
    }
   ],
   "source": [
    "model.summary()"
   ]
  },
  {
   "cell_type": "code",
   "execution_count": 8,
   "metadata": {
    "collapsed": false
   },
   "outputs": [
    {
     "data": {
      "text/plain": [
       "[(0, <keras.engine.topology.InputLayer at 0x109f0f7d0>),\n",
       " (1, <keras.layers.convolutional.Convolution2D at 0x154ba6bd0>),\n",
       " (2, <keras.layers.convolutional.Convolution2D at 0x154c5cd10>),\n",
       " (3, <keras.layers.pooling.MaxPooling2D at 0x1596e7f10>),\n",
       " (4, <keras.layers.convolutional.Convolution2D at 0x159713ed0>),\n",
       " (5, <keras.layers.convolutional.Convolution2D at 0x1597d7b10>),\n",
       " (6, <keras.layers.pooling.MaxPooling2D at 0x1597d79d0>),\n",
       " (7, <keras.layers.convolutional.Convolution2D at 0x159812ed0>),\n",
       " (8, <keras.layers.convolutional.Convolution2D at 0x159812050>),\n",
       " (9, <keras.layers.convolutional.Convolution2D at 0x159a28f50>),\n",
       " (10, <keras.layers.pooling.MaxPooling2D at 0x159a3afd0>),\n",
       " (11, <keras.layers.convolutional.Convolution2D at 0x159a759d0>),\n",
       " (12, <keras.layers.convolutional.Convolution2D at 0x159a75690>),\n",
       " (13, <keras.layers.convolutional.Convolution2D at 0x159ac0ad0>),\n",
       " (14, <keras.layers.pooling.MaxPooling2D at 0x159afa810>),\n",
       " (15, <keras.layers.convolutional.Convolution2D at 0x159b34d90>),\n",
       " (16, <keras.layers.convolutional.Convolution2D at 0x159b34c90>),\n",
       " (17, <keras.layers.convolutional.Convolution2D at 0x159d1de10>),\n",
       " (18, <keras.layers.pooling.MaxPooling2D at 0x159d47cd0>),\n",
       " (19, <keras.layers.core.Flatten at 0x15a95e790>),\n",
       " (20, <keras.layers.core.Dense at 0x15a607b10>),\n",
       " (21, <keras.layers.core.Dense at 0x109eeb690>),\n",
       " (22, <keras.layers.core.Dense at 0x15e704710>)]"
      ]
     },
     "execution_count": 8,
     "metadata": {},
     "output_type": "execute_result"
    }
   ],
   "source": [
    "zip(range(len(model.layers)), model.layers)"
   ]
  },
  {
   "cell_type": "code",
   "execution_count": 9,
   "metadata": {
    "collapsed": false
   },
   "outputs": [
    {
     "data": {
      "text/plain": [
       "(0.0017730496453900709, 747.60258451421214)"
      ]
     },
     "execution_count": 9,
     "metadata": {},
     "output_type": "execute_result"
    }
   ],
   "source": [
    "val_num = len(df_val.index)\n",
    "X_valid = np.ndarray((val_num, image_shape[1], image_shape[0], 3), dtype=np.float32)\n",
    "y_valid = np.ndarray((val_num, 1), dtype=np.float32)\n",
    "for i, index in enumerate(df_val.index):\n",
    "    img = cv2.imread(df_val.loc[index]['filename'])\n",
    "    img = cv2.resize(img, image_shape)\n",
    "    X_valid[i] = img\n",
    "    y_valid[i] = df_val.loc[index]['dir']\n",
    "\n",
    "def validation():\n",
    "    loss, acc = model.evaluate(X_valid, y_valid, verbose=0)\n",
    "    return acc, loss\n",
    "\n",
    "validation()"
   ]
  },
  {
   "cell_type": "code",
   "execution_count": 10,
   "metadata": {
    "collapsed": true
   },
   "outputs": [],
   "source": [
    "def train_one_batch(generator):\n",
    "    acc = Smooth()\n",
    "    loss = Smooth()\n",
    "    batch_num = generator.num/batch\n",
    "    pbar = tqdm(xrange(batch_num))\n",
    "    for i in pbar:\n",
    "        X, y = generator.next()\n",
    "        _loss, _acc = model.train_on_batch(X, y)\n",
    "        acc += _acc\n",
    "        loss += _loss\n",
    "        \n",
    "        if i != batch_num-1:\n",
    "            pbar.set_description(\"train loss: %.4f\" % loss)\n",
    "        else:\n",
    "            pbar.set_description(\"train loss: %.4f\\t valid loss: %.4f\\t\" % (loss, validation()[1]))\n",
    "\n",
    "def transfer_learning(top_num=-4, epoch=10, optimizer='adadelta'):\n",
    "    for layer in model.layers[:top_num]:\n",
    "        layer.trainable = False\n",
    "\n",
    "    for layer in model.layers[top_num:]:\n",
    "        layer.trainable = True\n",
    "    \n",
    "    model.compile(loss='mse', optimizer=optimizer, metrics=['accuracy'])\n",
    "    \n",
    "    for i in range(epoch):\n",
    "        train_one_batch(train)"
   ]
  },
  {
   "cell_type": "code",
   "execution_count": 11,
   "metadata": {
    "collapsed": false
   },
   "outputs": [
    {
     "name": "stderr",
     "output_type": "stream",
     "text": [
      "train loss: 157.7665\t valid loss: 186.1930\t: 100%|██████████| 334/334 [01:31<00:00,  1.07s/it]\n",
      "train loss: 150.5775\t valid loss: 167.7442\t: 100%|██████████| 334/334 [01:28<00:00,  1.06s/it]\n",
      "train loss: 125.8967\t valid loss: 160.5732\t: 100%|██████████| 334/334 [01:28<00:00,  1.06s/it]\n",
      "train loss: 121.3113\t valid loss: 162.1541\t: 100%|██████████| 334/334 [01:26<00:00,  1.06s/it]\n",
      "train loss: 110.3582\t valid loss: 163.7110\t: 100%|██████████| 334/334 [01:25<00:00,  1.06s/it]\n",
      "train loss: 105.4394\t valid loss: 172.1068\t: 100%|██████████| 334/334 [01:25<00:00,  1.06s/it]\n"
     ]
    }
   ],
   "source": [
    "transfer_learning(18, epoch=6)"
   ]
  },
  {
   "cell_type": "code",
   "execution_count": 12,
   "metadata": {
    "collapsed": false
   },
   "outputs": [
    {
     "name": "stderr",
     "output_type": "stream",
     "text": [
      "train loss: 146.6508\t valid loss: 182.1213\t: 100%|██████████| 334/334 [01:39<00:00,  1.10s/it]\n",
      "train loss: 151.0907\t valid loss: 185.6369\t: 100%|██████████| 334/334 [01:38<00:00,  1.09s/it]\n",
      "train loss: 125.2407\t valid loss: 160.5017\t: 100%|██████████| 334/334 [01:38<00:00,  1.09s/it]\n",
      "train loss: 128.3639\t valid loss: 150.6024\t: 100%|██████████| 334/334 [01:38<00:00,  1.09s/it]\n"
     ]
    }
   ],
   "source": [
    "transfer_learning(14, epoch=4)"
   ]
  },
  {
   "cell_type": "code",
   "execution_count": 13,
   "metadata": {
    "collapsed": false
   },
   "outputs": [
    {
     "data": {
      "text/plain": [
       "[([0.0], [1.7571333646774292]),\n",
       " ([2.286695957183838], [5.95246696472168]),\n",
       " ([-19.30561065673828], [1.0129343271255493]),\n",
       " ([-12.965689659118652], [-12.264935493469238]),\n",
       " ([0.0], [-2.5279927253723145]),\n",
       " ([0.0], [1.8169598579406738]),\n",
       " ([0.0], [-0.302773654460907]),\n",
       " ([0.0], [-2.2620153427124023]),\n",
       " ([0.0], [10.921895980834961]),\n",
       " ([50.90488815307617], [20.269895553588867]),\n",
       " ([0.0], [4.648195266723633]),\n",
       " ([-21.3906192779541], [-19.52005958557129]),\n",
       " ([45.78181838989258], [29.110355377197266]),\n",
       " ([-8.961886405944824], [-0.5977527499198914]),\n",
       " ([0.0], [-2.303544282913208]),\n",
       " ([0.0], [5.018388748168945]),\n",
       " ([24.748779296875], [2.4962007999420166]),\n",
       " ([-8.734809875488281], [-16.73863983154297]),\n",
       " ([-19.03080940246582], [-8.928788185119629]),\n",
       " ([0.0], [1.975947380065918]),\n",
       " ([0.0], [2.8204877376556396]),\n",
       " ([-26.86319923400879], [-4.699775218963623]),\n",
       " ([0.0], [1.337903618812561]),\n",
       " ([-63.47911071777344], [-19.936290740966797]),\n",
       " ([5.479771137237549], [22.628934860229492]),\n",
       " ([0.0], [13.46994400024414]),\n",
       " ([0.0], [-22.14175796508789]),\n",
       " ([16.828519821166992], [1.6104493141174316]),\n",
       " ([-8.89858627319336], [-5.896409034729004]),\n",
       " ([0.0], [16.953319549560547]),\n",
       " ([0.0], [-2.1821348667144775]),\n",
       " ([0.0], [-7.682247638702393]),\n",
       " ([-17.65410041809082], [1.5478132963180542]),\n",
       " ([14.814590454101562], [-1.2512305974960327]),\n",
       " ([0.0], [3.806253671646118]),\n",
       " ([-5.376613140106201], [-7.052274227142334]),\n",
       " ([-8.212494850158691], [-4.771496772766113]),\n",
       " ([-62.64120101928711], [-9.598745346069336]),\n",
       " ([0.0], [1.4960503578186035]),\n",
       " ([0.0], [2.386955738067627]),\n",
       " ([35.602500915527344], [7.663572788238525]),\n",
       " ([-27.111909866333008], [-2.2202606201171875]),\n",
       " ([0.0], [-6.802376747131348]),\n",
       " ([0.0], [0.9332130551338196]),\n",
       " ([0.0], [-2.269062042236328]),\n",
       " ([18.225309371948242], [5.947760105133057]),\n",
       " ([0.0], [2.91298508644104]),\n",
       " ([19.580110549926758], [5.593339920043945]),\n",
       " ([54.38908004760742], [6.550837516784668]),\n",
       " ([-32.415889739990234], [-22.258407592773438]),\n",
       " ([-0.22528770565986633], [-3.0776684284210205]),\n",
       " ([0.0], [-0.8878257870674133]),\n",
       " ([0.0], [-2.5789284706115723]),\n",
       " ([0.0], [2.3425581455230713]),\n",
       " ([0.0], [3.644484758377075]),\n",
       " ([-54.206390380859375], [-16.202442169189453]),\n",
       " ([14.366999626159668], [27.54047393798828]),\n",
       " ([0.0], [6.765825271606445]),\n",
       " ([0.0], [2.6102936267852783]),\n",
       " ([-80.68231201171875], [-11.979171752929688]),\n",
       " ([5.283308029174805], [4.980464458465576]),\n",
       " ([0.0], [-0.5001671314239502]),\n",
       " ([45.415809631347656], [22.362062454223633]),\n",
       " ([0.0], [3.2806949615478516])]"
      ]
     },
     "execution_count": 13,
     "metadata": {},
     "output_type": "execute_result"
    }
   ],
   "source": [
    "X_val, y_val = val.next()\n",
    "y_pred = model.predict(X_val)\n",
    "delta = y_val - y_pred\n",
    "\n",
    "zip(y_val.tolist(), y_pred.tolist())"
   ]
  },
  {
   "cell_type": "code",
   "execution_count": 14,
   "metadata": {
    "collapsed": false
   },
   "outputs": [],
   "source": [
    "model.save('model.h5', overwrite=True)"
   ]
  },
  {
   "cell_type": "code",
   "execution_count": 15,
   "metadata": {
    "collapsed": true
   },
   "outputs": [],
   "source": [
    "from keras.applications import VGG16\n",
    "\n",
    "img_input = Input(shape=(image_shape[1], image_shape[0], 3))\n",
    "base_model = VGG16(weights='imagenet', input_tensor=img_input, include_top=False)\n",
    "\n",
    "x = base_model.output\n",
    "\n",
    "x = Flatten()(x)\n",
    "x = Dense(2048, activation='relu')(x)\n",
    "x = Dense(2048, activation='relu')(x)\n",
    "x = Dense(1)(x)\n",
    "\n",
    "model = Model(input=base_model.input, output=x)\n",
    "\n",
    "model.compile(loss='mse', optimizer='adadelta', metrics=['accuracy'])\n",
    "\n",
    "with open('model.json', 'w') as f:\n",
    "    f.write(model.to_json())"
   ]
  },
  {
   "cell_type": "code",
   "execution_count": null,
   "metadata": {
    "collapsed": true
   },
   "outputs": [],
   "source": []
  }
 ],
 "metadata": {
  "kernelspec": {
   "display_name": "Python 2",
   "language": "python",
   "name": "python2"
  },
  "language_info": {
   "codemirror_mode": {
    "name": "ipython",
    "version": 2
   },
   "file_extension": ".py",
   "mimetype": "text/x-python",
   "name": "python",
   "nbconvert_exporter": "python",
   "pygments_lexer": "ipython2",
   "version": "2.7.13"
  }
 },
 "nbformat": 4,
 "nbformat_minor": 2
}
